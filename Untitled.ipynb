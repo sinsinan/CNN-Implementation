{
 "cells": [
  {
   "cell_type": "markdown",
   "metadata": {},
   "source": [
    "# CNN Scratch implimentation"
   ]
  },
  {
   "cell_type": "code",
   "execution_count": 2,
   "metadata": {},
   "outputs": [],
   "source": [
    "import glob\n",
    "import numpy as np\n",
    "import cv2\n",
    "from matplotlib import pyplot as plt\n",
    "import random"
   ]
  },
  {
   "cell_type": "code",
   "execution_count": 3,
   "metadata": {},
   "outputs": [],
   "source": [
    "def read_image(path):\n",
    "    oriimg=cv2.imread(path)\n",
    "    #newimg = cv2.resize(oriimg,(32,32))\n",
    "    return np.array(oriimg)"
   ]
  },
  {
   "cell_type": "code",
   "execution_count": 4,
   "metadata": {},
   "outputs": [],
   "source": [
    "\n",
    "def load_images(path):\n",
    "    image_path = glob.glob(path)\n",
    "    image_array = np.array([read_image(image_path[i]) for i in range(100)])\n",
    "    #image_array = np.array([np.array(cv2.imread(image_path[i])) for i in range(len())])\n",
    "    return image_array"
   ]
  },
  {
   "cell_type": "markdown",
   "metadata": {},
   "source": [
    "### Loading images for processing"
   ]
  },
  {
   "cell_type": "code",
   "execution_count": 5,
   "metadata": {},
   "outputs": [
    {
     "name": "stdout",
     "output_type": "stream",
     "text": [
      "100\n"
     ]
    }
   ],
   "source": [
    "image_data = load_images(\"dataset/faces/*\")\n",
    "print(len(image_data))"
   ]
  },
  {
   "cell_type": "code",
   "execution_count": 6,
   "metadata": {},
   "outputs": [],
   "source": [
    "def convolution(image_data,kernel):\n",
    "    if kernel == \"spiral\":\n",
    "        kernel = [-1,1,-1,1,0,1,-1,1,-1]\n",
    "    if kernel == \"sharpen\":\n",
    "        kernel = [0,-1,0,-1,5,-1,0,-1,0]\n",
    "    if kernel == \"identity\":\n",
    "        kernel = [0,0,0,0,1,0,0,0,0] \n",
    "    output_array=np.zeros((image_data.shape[0]-2,image_data.shape[1]-2,image_data.shape[2]))\n",
    "    image = np.copy(image_data)\n",
    "    #image = np.pad(image, pad_width=1, mode='constant', constant_values=0)\n",
    "    for i in range(1,len(image)-2):\n",
    "        for j in range(1,len(image[i])-2):\n",
    "            n=0\n",
    "            for k in range(i-int(3/2),i+int(3/2)):\n",
    "                for l in range(j-int(3/2),j+int(3/2)):\n",
    "                    #print(str(i)+\",\"+str(j)+\"  \"+str(k)+\",\"+str(l))\n",
    "                    output_array[i][j][0]+=image[k][l][0]*kernel[n]\n",
    "                    output_array[i][j][1]+=image[k][l][1]*kernel[n]\n",
    "                    output_array[i][j][2]+=image[k][l][2]*kernel[n]\n",
    "                    n+=1\n",
    "    return np.array(output_array)"
   ]
  },
  {
   "cell_type": "markdown",
   "metadata": {},
   "source": [
    "### Activation layer relu is used"
   ]
  },
  {
   "cell_type": "code",
   "execution_count": 7,
   "metadata": {
    "scrolled": true
   },
   "outputs": [],
   "source": [
    "def relu(image):\n",
    "    for i in image:\n",
    "        for j in i:\n",
    "            for k in j:\n",
    "                if k < 0:\n",
    "                    k = 0\n",
    "                    #print(\"h\")\n",
    "    return(np.array(image))"
   ]
  },
  {
   "cell_type": "code",
   "execution_count": 8,
   "metadata": {},
   "outputs": [],
   "source": [
    "def pooling(o,type):\n",
    "    a=np.zeros((int(o.shape[0]/2),int(o.shape[1]/2),3))\n",
    "    if type == \"meanpool\":\n",
    "        \n",
    "        for i in range(0,o.shape[0]-2,2):\n",
    "            for j in range(0,o.shape[1]-2,2):\n",
    "                for k in range(i,i+2):\n",
    "                    for l in range(j,j+2):\n",
    "\n",
    "                        a[int(i/2)][int(j/2)][0] += o[k][l][0]\n",
    "                        a[int(i/2)][int(j/2)][1] += o[k][l][1]\n",
    "                        a[int(i/2)][int(j/2)][2] += o[k][l][2]\n",
    "                            \n",
    "        a[int(i/2)][int(j/2)][0]/=4\n",
    "        a[int(i/2)][int(j/2)][1]/=4\n",
    "        a[int(i/2)][int(j/2)][2]/=4\n",
    "        return a\n",
    "    \n",
    "    elif type == \"maxpool\":\n",
    "        for i in range(0,o.shape[0]-2,2):\n",
    "            for j in range(0,o.shape[1]-2,2):\n",
    "                for k in range(i,i+2):\n",
    "                    for l in range(j,j+2):\n",
    "                        \n",
    "                        if o[k][l][0] > a[int(i/2)][int(j/2)][0]:\n",
    "                            a[int(i/2)][int(j/2)][0] = o[k][l][0]\n",
    "                        if o[k][l][1] > a[int(i/2)][int(j/2)][1]:\n",
    "                            a[int(i/2)][int(j/2)][1] = o[k][l][1]\n",
    "                        if o[k][l][2] > a[int(i/2)][int(j/2)][2]:\n",
    "                            a[int(i/2)][int(j/2)][2] = o[k][l][2]                   \n",
    "\n",
    "        return a"
   ]
  },
  {
   "cell_type": "code",
   "execution_count": 23,
   "metadata": {},
   "outputs": [],
   "source": [
    "def flatten(input_array):\n",
    "    o=[]\n",
    "    for i in input_array:\n",
    "        for j in i:\n",
    "            for k in j:\n",
    "                o.append(k)\n",
    "    return(np.array(o))"
   ]
  },
  {
   "cell_type": "code",
   "execution_count": 31,
   "metadata": {},
   "outputs": [],
   "source": [
    "def dropout(input_array,probability):\n",
    "    o=np.zeros((len(input_array)))\n",
    "    for i in range(len(input_array)):\n",
    "        if random.uniform(0, 1) < probability:\n",
    "            o[i]=0\n",
    "    return o"
   ]
  },
  {
   "cell_type": "code",
   "execution_count": 9,
   "metadata": {},
   "outputs": [],
   "source": [
    "o = convolution(image_data[11],kernel=\"spiral\")\n",
    "o = relu(o)\n",
    "o = convolution(o,kernel=\"sharpen\")\n",
    "o = relu(o)\n",
    "o = pooling(o,type=\"maxpool\")\n"
   ]
  },
  {
   "cell_type": "code",
   "execution_count": 10,
   "metadata": {},
   "outputs": [
    {
     "data": {
      "text/plain": [
       "<matplotlib.image.AxesImage at 0x7f1b7e6cb400>"
      ]
     },
     "execution_count": 10,
     "metadata": {},
     "output_type": "execute_result"
    },
    {
     "data": {
      "image/png": "[encoded data removed]",
      "text/plain": [
       "<Figure size 432x288 with 1 Axes>"
      ]
     },
     "metadata": {
      "needs_background": "light"
     },
     "output_type": "display_data"
    }
   ],
   "source": [
    "\n",
    "plt.imshow(image_data[11])\n"
   ]
  },
  {
   "cell_type": "code",
   "execution_count": 11,
   "metadata": {},
   "outputs": [
    {
     "name": "stderr",
     "output_type": "stream",
     "text": [
      "Clipping input data to the valid range for imshow with RGB data ([0..1] for floats or [0..255] for integers).\n"
     ]
    },
    {
     "data": {
      "text/plain": [
       "<matplotlib.image.AxesImage at 0x7f1b7e65ab00>"
      ]
     },
     "execution_count": 11,
     "metadata": {},
     "output_type": "execute_result"
    },
    {
     "data": {
      "image/png": "[encoded data removed]",
      "text/plain": [
       "<Figure size 432x288 with 1 Axes>"
      ]
     },
     "metadata": {
      "needs_background": "light"
     },
     "output_type": "display_data"
    }
   ],
   "source": [
    "plt.imshow(o)"
   ]
  },
  {
   "cell_type": "code",
   "execution_count": 22,
   "metadata": {},
   "outputs": [
    {
     "data": {
      "text/plain": [
       "0.2706373208654381"
      ]
     },
     "execution_count": 22,
     "metadata": {},
     "output_type": "execute_result"
    }
   ],
   "source": [
    "random.uniform(0, 1)"
   ]
  },
  {
   "cell_type": "code",
   "execution_count": null,
   "metadata": {},
   "outputs": [],
   "source": [
    "o = flatten(o)\n",
    "o = dropout(o,probability=0.25)\n",
    "o = dense(o,)"
   ]
  }
 ],
 "metadata": {
  "kernelspec": {
   "display_name": "Python 3",
   "language": "python",
   "name": "python3"
  },
  "language_info": {
   "codemirror_mode": {
    "name": "ipython",
    "version": 3
   },
   "file_extension": ".py",
   "mimetype": "text/x-python",
   "name": "python",
   "nbconvert_exporter": "python",
   "pygments_lexer": "ipython3",
   "version": "3.6.7"
  }
 },
 "nbformat": 4,
 "nbformat_minor": 2
}
